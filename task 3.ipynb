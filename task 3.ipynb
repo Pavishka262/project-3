{
 "cells": [
  {
   "cell_type": "code",
   "execution_count": null,
   "id": "9b23885f",
   "metadata": {},
   "outputs": [],
   "source": [
    "import torch\n",
    "import torch.nn as nn\n",
    "import torchvision.models as models\n",
    "import torchvision.transforms as transforms\n",
    "from PIL import Image\n",
    "\n",
    "# Load the pre-trained ResNet model\n",
    "resnet = models.resnet50(pretrained=True)\n",
    "# Remove the classification layer (final fully connected layer)\n",
    "resnet = nn.Sequential(*list(resnet.children())[:-1])\n",
    "# Set the model to evaluation mode\n",
    "resnet.eval()"
   ]
  },
  {
   "cell_type": "code",
   "execution_count": null,
   "id": "b2a9c62b",
   "metadata": {},
   "outputs": [],
   "source": [
    "# Function to preprocess the image and extract features using ResNet\n",
    "def extract_features(image_path):\n",
    "    transform = transforms.Compose([\n",
    "        transforms.Resize((224, 224)),      # Resize the image to (224, 224) for ResNet input\n",
    "        transforms.ToTensor(),              # Convert image to tensor\n",
    "        transforms.Normalize((0.485, 0.456, 0.406), (0.229, 0.224, 0.225))  # Normalize the image\n",
    "    ])\n",
    "\n",
    "    image = Image.open(image_path)\n",
    "    image = transform(image).unsqueeze(0)  # Add batch dimension\n",
    "    with torch.no_grad():\n",
    "        features = resnet(image)\n",
    "    return features.squeeze()\n",
    "\n",
    "# Example usage\n",
    "image_path = \"/content/google.jpg\"\n",
    "image_features = extract_features(image_path)\n",
    "     "
   ]
  },
  {
   "cell_type": "code",
   "execution_count": null,
   "id": "90a25872",
   "metadata": {},
   "outputs": [],
   "source": [
    "import torch.nn as nn\n",
    "import torch.optim as optim\n",
    "\n",
    "# Define the RNN-based captioning model\n",
    "class CaptioningModel(nn.Module):\n",
    "    def __init__(self, input_size, hidden_size, vocab_size):\n",
    "        super(CaptioningModel, self).__init__()\n",
    "        self.hidden_size = hidden_size\n",
    "        self.embedding = nn.Embedding(vocab_size, input_size)\n",
    "        self.rnn = nn.LSTM(input_size, hidden_size)\n",
    "        self.fc = nn.Linear(hidden_size, vocab_size)\n",
    "\n",
    "    def forward(self, image_features, captions):\n",
    "        embeds = self.embedding(captions)\n",
    "        embeds = torch.cat((image_features.unsqueeze(0), embeds), dim=0)\n",
    "        lstm_out, _ = self.rnn(embeds)\n",
    "        output = self.fc(lstm_out)\n",
    "        return output\n",
    "\n",
    "# Example usage\n",
    "input_size = 512  # ResNet output size\n",
    "hidden_size = 256  # Size of the hidden layer in LSTM\n",
    "vocab_size = 10000  # The size of the vocabulary (number of unique words)\n",
    "captioning_model = CaptioningModel(input_size, hidden_size, vocab_size)\n",
    "     "
   ]
  }
 ],
 "metadata": {
  "kernelspec": {
   "display_name": "Python 3 (ipykernel)",
   "language": "python",
   "name": "python3"
  },
  "language_info": {
   "codemirror_mode": {
    "name": "ipython",
    "version": 3
   },
   "file_extension": ".py",
   "mimetype": "text/x-python",
   "name": "python",
   "nbconvert_exporter": "python",
   "pygments_lexer": "ipython3",
   "version": "3.11.4"
  }
 },
 "nbformat": 4,
 "nbformat_minor": 5
}
